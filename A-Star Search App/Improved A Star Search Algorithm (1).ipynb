{
 "cells": [
  {
   "cell_type": "markdown",
   "metadata": {},
   "source": [
    "<p> By:  <b> Mauricio, Mherlie, Michael, and Gillie </b></p>\n",
    "<p> <i>- A* algorithm </i></p>"
   ]
  },
  {
   "cell_type": "code",
   "execution_count": 19,
   "metadata": {},
   "outputs": [],
   "source": [
    "import time"
   ]
  },
  {
   "cell_type": "code",
   "execution_count": 20,
   "metadata": {},
   "outputs": [],
   "source": [
    "\n",
    "\"\"\"\n",
    "Below is the adjacency list that represents the graph of Iloilo Universities.\n",
    "\n",
    "The graph is made to be traversable from one point to another.\n",
    "\"\"\"\n",
    "def set_graph():\n",
    "\n",
    "    graph_km = {\n",
    "        'A' : {'B' : 1.2 , 'C': 2.2, 'D' : 2.0},                #start node - UPV\n",
    "\n",
    "        'B' : {'A' : 1.2, 'C': 0.3, 'D' : 0.55},                #USA\n",
    "\n",
    "        'C' : {'B' : 0.3, 'D' : 0.25},                          #Assumption Iloilo\n",
    "\n",
    "        'D' : {'C' : 0.25, 'E' : 1.3, 'F' : 1.7},               #St. Paul's\n",
    "\n",
    "        'E' : {'D' : 1.2, 'F' : 0.5},                           #WIT\n",
    "\n",
    "        'F' : {'E' : 1.2, 'G' : 0.9, 'H' :  1.4},               #WVSU\n",
    "\n",
    "        'G' : {'H' : 0.45, 'F' : 0.9},                          #Collegio de San Jose\n",
    "\n",
    "        'H' : {'I' : 1.3, 'G' : 0.45},                          #Saint Vincent Ferrer Seminary\n",
    "        \n",
    "        'I' : {'H' : 1.3},                                      #Goal Node - CPU \n",
    "        \n",
    "        }\n",
    "    \n",
    "    return graph_km"
   ]
  },
  {
   "cell_type": "code",
   "execution_count": 21,
   "metadata": {},
   "outputs": [],
   "source": [
    "\n",
    "\"\"\"\n",
    "\n",
    "Below is the different heuristics that will be used to traverse the graph of Iloilo Universities\n",
    "\n",
    "Different Heuristics will be used and depend on the goal node\n",
    "\n",
    "\"\"\"\n",
    "\n",
    "def set_heu(goal_node):\n",
    "\n",
    "    #Assuming Goal Node is UPV, this is the heuristic\n",
    "    upv_heu = {\n",
    "        'A': 0,    # Estimated distance from 'A' to 'UPV' to itself (0 for the goal)\n",
    "        'B': 0.9,  # Estimated distance from 'B' to 'UPV'\n",
    "        'C': 1.6,  # Estimated distance from 'C' to 'UPV'\n",
    "        'D': 1.8,  # Estimated distance from 'D' to 'UPV'\n",
    "        'E': 2.6,  # Estimated distance from 'E' to 'UPV'\n",
    "        'F': 3.1,  # Estimated distance from 'F' to 'UPV' \n",
    "        'G': 3.9,  # Estimated distance from 'G' to 'UPV'\n",
    "        'H': 3.4,  # Estimated distance from 'H' to 'UPV'\n",
    "        'I': 4.1,  # Estimated distance from 'I' to 'UPV'\n",
    "    }\n",
    "\n",
    "    #Assuming Goal Node is USA, this is the heuristic\n",
    "    usa_heu = {\n",
    "        'A': 1.0,  # Estimated distance from 'A' to 'USA' \n",
    "        'B': 0,    # Estimated distance from 'B' to 'USA' to itself (0 for the goal)\n",
    "        'C': 0.3,  # Estimated distance from 'C' to 'USA'\n",
    "        'D': 0.55, # Estimated distance from 'D' to 'USA'\n",
    "        'E': 1.5,  # Estimated distance from 'E' to 'USA'\n",
    "        'F': 2.1,  # Estimated distance from 'F' to 'USA' \n",
    "        'G': 3.0,  # Estimated distance from 'G' to 'USA'\n",
    "        'H': 3.5,  # Estimated distance from 'H' to 'USA'\n",
    "        'I': 4.7,  # Estimated distance from 'I' to 'USA'\n",
    "    }\n",
    "\n",
    "    #Assuming Goal Node is Assumption Iloilo, this is the heuristic\n",
    "    assum_heu = {\n",
    "        'A': 2.2,  # Estimated distance from 'A' to 'Assumption Iloilo' \n",
    "        'B': 0.3,  # Estimated distance from 'B' to 'Assumption Iloilo' \n",
    "        'C': 0,    # Estimated distance from 'C' to 'Assumption Iloilo' to itself (0 for the goal)\n",
    "        'D': 0.25, # Estimated distance from 'D' to 'Assumption Iloilo'\n",
    "        'E': 1.3,  # Estimated distance from 'E' to 'Assumption Iloilo'\n",
    "        'F': 1.9,  # Estimated distance from 'F' to 'Assumption Iloilo' \n",
    "        'G': 2.6,  # Estimated distance from 'G' to 'Assumption Iloilo'\n",
    "        'H': 3.1,  # Estimated distance from 'H' to 'Assumption Iloilo'\n",
    "        'I': 5.8,  # Estimated distance from 'I' to 'Assumption Iloilo'\n",
    "    }\n",
    "\n",
    "    #Assuming Goal Node is St. Paul, this is the heuristic\n",
    "    stp_heu = {\n",
    "        'A': 2.0,  # Estimated distance from 'A' to 'St. Paul' \n",
    "        'B': 0.55, # Estimated distance from 'B' to 'St. Paul' \n",
    "        'C': 0.25, # Estimated distance from 'C' to 'St. Paul'\n",
    "        'D': 0,    # Estimated distance from 'D' to 'St. Paul' to itself (0 for the goal)\n",
    "        'E': 1.2,  # Estimated distance from 'E' to 'St. Paul'\n",
    "        'F': 1.7,  # Estimated distance from 'F' to 'St. Paul' \n",
    "        'G': 2.5,  # Estimated distance from 'G' to 'St. Paul'\n",
    "        'H': 2.9,  # Estimated distance from 'H' to 'St. Paul'\n",
    "        'I': 5.6,  # Estimated distance from 'I' to 'St. Paul'\n",
    "    }\n",
    "\n",
    "    #Assuming Goal Node is WIT, this is the heuristic\n",
    "    wit_heu = {\n",
    "        'A': 2.4,  # Estimated distance from 'A' to 'WIT' \n",
    "        'B': 1.7,  # Estimated distance from 'B' to 'WIT' \n",
    "        'C': 1.6,  # Estimated distance from 'C' to 'WIT'\n",
    "        'D': 1.8,  # Estimated distance from 'D' to 'WIT'  \n",
    "        'E': 0,    # Estimated distance from 'E' to 'WIT' to itself (0 for the goal)\n",
    "        'F': 0.5,  # Estimated distance from 'F' to 'WIT' \n",
    "        'G': 1.3,  # Estimated distance from 'G' to 'WIT'\n",
    "        'H': 1.8,  # Estimated distance from 'H' to 'WIT'\n",
    "        'I': 3.5,  # Estimated distance from 'I' to 'WIT'\n",
    "    }\n",
    "\n",
    "    #Assuming Goal Node is WVSU, this is the heuristic\n",
    "    wvsu_heu = {\n",
    "        'A': 2.9,  # Estimated distance from 'A' to 'WVSU' \n",
    "        'B': 2.1,  # Estimated distance from 'B' to 'WVSU' \n",
    "        'C': 2.5,  # Estimated distance from 'C' to 'WVSU'\n",
    "        'D': 2.3,  # Estimated distance from 'D' to 'WVSU'  \n",
    "        'E': 0.5,  # Estimated distance from 'E' to 'WVSU' \n",
    "        'F': 0,    # Estimated distance from 'F' to 'WVSU' to itself (0 for the goal) \n",
    "        'G': 0.8,  # Estimated distance from 'G' to 'WVSU'\n",
    "        'H': 1.3,  # Estimated distance from 'H' to 'WVSU'\n",
    "        'I': 3.0,  # Estimated distance from 'I' to 'WVSU'\n",
    "    }\n",
    "\n",
    "    #Assuming Goal Node is Colegio de San Jose, this is the heuristic\n",
    "    csj_heu = {\n",
    "        'A': 3.5,  # Estimated distance from 'A' to 'CSJ' \n",
    "        'B': 2.9,  # Estimated distance from 'B' to 'CSJ' \n",
    "        'C': 3.2,  # Estimated distance from 'C' to 'CSJ'\n",
    "        'D': 3.1,  # Estimated distance from 'D' to 'CSJ'  \n",
    "        'E': 1.3,  # Estimated distance from 'E' to 'CSJ' \n",
    "        'F': 0.5,  # Estimated distance from 'F' to 'CSJ' \n",
    "        'G': 0.9,  # Estimated distance from 'G' to 'CSJ' to itself (0 for the goal)\n",
    "        'H': 0.45, # Estimated distance from 'H' to 'CSJ'\n",
    "        'I': 2.2,  # Estimated distance from 'I' to 'CSJ'\n",
    "    }\n",
    "\n",
    "    #Assuming Goal Node is Saint Vincent Ferrer Seminary, this is the heuristic\n",
    "    svfs_heu = {\n",
    "        'A': 3.4,  # Estimated distance from 'A' to 'SVFS' \n",
    "        'B': 3.3,  # Estimated distance from 'B' to 'SVFS' \n",
    "        'C': 3.7,  # Estimated distance from 'C' to 'SVFS'\n",
    "        'D': 3.9,  # Estimated distance from 'D' to 'SVFS'  \n",
    "        'E': 1.8,  # Estimated distance from 'E' to 'SVFS' \n",
    "        'F': 1.4,  # Estimated distance from 'F' to 'SVFS' \n",
    "        'G': 0.45, # Estimated distance from 'G' to 'SVFS'\n",
    "        'H': 0,    # Estimated distance from 'H' to 'SVFS' to itself (0 for the goal)\n",
    "        'I': 1.8,  # Estimated distance from 'I' to 'SVFS'\n",
    "    }\n",
    "\n",
    "    #Assuming Goal Node is CPU, this is the heuristic\n",
    "    cpu_heu = {\n",
    "        'A': 3.9,  # Estimated distance from 'A' to 'CPU'\n",
    "        'B': 4.4,  # Estimated distance from 'B' to 'CPU'\n",
    "        'C': 4.8,  # Estimated distance from 'C' to 'CPU'\n",
    "        'D': 5.0,  # Estimated distance from 'D' to 'CPU'\n",
    "        'E': 3.6,  # Estimated distance from 'E' to 'CPU'\n",
    "        'F': 2.7,  # Estimated distance from 'F' to 'CPU' \n",
    "        'G': 1.8,  # Estimated distance from 'G' to 'CPU'\n",
    "        'H': 1.3,  # Estimated distance from 'H' to 'CPU'\n",
    "        'I': 0,    # Estimated distance from 'I' to 'CPU' to itself (0 for the goal)\n",
    "    }\n",
    "\n",
    "    match goal_node:\n",
    "\n",
    "        case 'A': #UPV\n",
    "            return upv_heu\n",
    "        \n",
    "        case 'B': #USA\n",
    "            return usa_heu\n",
    "        \n",
    "        case 'C': #Assumption Iloilo\n",
    "            return assum_heu\n",
    "        \n",
    "        case 'D': # St. Paul\n",
    "            return stp_heu\n",
    "        \n",
    "        case 'E': #WIT\n",
    "            return wit_heu\n",
    "        \n",
    "        case 'F': #WVSU\n",
    "            return wvsu_heu\n",
    "        \n",
    "        case 'G': #CSJ\n",
    "            return csj_heu\n",
    "        \n",
    "        case 'H': #SVFS\n",
    "            return svfs_heu\n",
    "        \n",
    "        case 'I': #CPU\n",
    "            return cpu_heu\n",
    "        \n",
    "        case other:\n",
    "            raise ValueError('Wrong Input')\n",
    "        \n",
    "    \n",
    "\n",
    "\n"
   ]
  },
  {
   "cell_type": "markdown",
   "metadata": {},
   "source": [
    "<h3>Class for A-Star Search Algorithm</h3>\n",
    "<h4><b>Parameters</b></h4>\n",
    "<li>Graph</li>\n",
    "<li>Heuristics</li>\n",
    "<li>Start Node</li>\n",
    "<li>Goal Node</li>\n"
   ]
  },
  {
   "cell_type": "code",
   "execution_count": 22,
   "metadata": {},
   "outputs": [],
   "source": [
    "import heapq\n",
    "\n",
    "class AStarGraph(object):\n",
    "    def __init__(self, graph, heuristics):\n",
    "        self.graph = graph\n",
    "        self.heuristics = heuristics\n",
    "\n",
    "    def get_neighbors(self, node):\n",
    "        return self.graph.get(node, {})\n",
    "\n",
    "    def a_star_algorithm(self, start, end):\n",
    "        open_list = set([start])\n",
    "        closed_list = set([])\n",
    "        g = {}  # Actual movement cost to each position from the start position\n",
    "        parents = {}  # Parents contains an adjacency map of all nodes\n",
    "\n",
    "        # Default value if the node is not found in the graph\n",
    "        g[start] = 0\n",
    "        # Start node is in the open list\n",
    "        parents[start] = start\n",
    "\n",
    "        while len(open_list) > 0:\n",
    "            n = None\n",
    "\n",
    "            # Find a node with the lowest value of f() - evaluation function\n",
    "            for v in open_list:\n",
    "                if n == None or g[v] + self.heuristics[v] < g[n] + self.heuristics[n]:\n",
    "                    n = v\n",
    "\n",
    "            if n == None:\n",
    "                print('Path does not exist!')\n",
    "                return None\n",
    "\n",
    "            # If the current node is the end node\n",
    "            if n == end:\n",
    "                reconst_path = []\n",
    "\n",
    "                while parents[n] != n:\n",
    "                    reconst_path.append(n)\n",
    "                    n = parents[n]\n",
    "\n",
    "                reconst_path.append(start)\n",
    "                reconst_path.reverse()\n",
    "\n",
    "                print('Path found: {}'.format(reconst_path))\n",
    "                return reconst_path\n",
    "\n",
    "            # For all the neighbors of the current node\n",
    "            for (m, weight) in self.get_neighbors(n).items():\n",
    "                # If the current node is not present in both open_list and closed_list\n",
    "                # Add it to open_list and note n as it's parent\n",
    "                if m not in open_list and m not in closed_list:\n",
    "                    open_list.add(m)\n",
    "                    parents[m] = n\n",
    "                    g[m] = g[n] + weight\n",
    "\n",
    "                # Otherwise, check if it's quicker to first visit n, then m\n",
    "                # And if it is, update parent data and g data\n",
    "                # And if the node was in the closed_list, move it to open_list\n",
    "                else:\n",
    "                    if g[m] > g[n] + weight:\n",
    "                        g[m] = g[n] + weight\n",
    "                        parents[m] = n\n",
    "\n",
    "                        if m in closed_list:\n",
    "                            closed_list.remove(m)\n",
    "                            open_list.add(m)\n",
    "\n",
    "            # Remove n from the open_list, and add it to closed_list\n",
    "            # Because all of his neighbors were inspected\n",
    "            open_list.remove(n)\n",
    "            closed_list.add(n)\n",
    "\n",
    "        print('Path does not exist!')\n",
    "        return None\n",
    "    \n",
    "    def results(self, start, end):\n",
    "        path = self.a_star_algorithm(start, end)\n",
    "        if path is not None:\n",
    "            # Calculate the actual cost by summing the weights of the edges between nodes in the path\n",
    "            actual_cost = sum([self.graph[path[i]][path[i + 1]] for i in range(len(path) - 1)])\n",
    "            # The total cost is the actual cost plus the heuristic of the end node\n",
    "            total_cost = actual_cost + self.heuristics[end]\n",
    "\n",
    "            # Format the costs to two decimal places\n",
    "            formatted_actual_cost = \"{:.2f}\".format(actual_cost)\n",
    "            formatted_total_cost = \"{:.2f}\".format(total_cost)\n",
    "\n",
    "            # Print the formatted costs\n",
    "            print(\"Actual Cost: {} km\".format(formatted_actual_cost))\n",
    "            print(\"Total Cost (with heuristic): {} km\".format(formatted_total_cost))\n",
    "\n"
   ]
  },
  {
   "cell_type": "code",
   "execution_count": null,
   "metadata": {},
   "outputs": [],
   "source": []
  },
  {
   "cell_type": "markdown",
   "metadata": {},
   "source": [
    "<h3>Class Instantiation and Running the A-Star Algortihm</h3>"
   ]
  },
  {
   "cell_type": "code",
   "execution_count": 23,
   "metadata": {},
   "outputs": [],
   "source": [
    "kilometerDistance=set_graph()\n",
    "heu = set_heu('B')"
   ]
  },
  {
   "cell_type": "code",
   "execution_count": 24,
   "metadata": {},
   "outputs": [],
   "source": [
    "#class instantiation\n",
    "iloiloUniversities = AStarGraph(kilometerDistance, heu)"
   ]
  },
  {
   "cell_type": "code",
   "execution_count": 25,
   "metadata": {},
   "outputs": [
    {
     "name": "stdout",
     "output_type": "stream",
     "text": [
      "Path found: ['I', 'H', 'G', 'F', 'E', 'D', 'C', 'B']\n"
     ]
    },
    {
     "data": {
      "text/plain": [
       "['I', 'H', 'G', 'F', 'E', 'D', 'C', 'B']"
      ]
     },
     "execution_count": 25,
     "metadata": {},
     "output_type": "execute_result"
    }
   ],
   "source": [
    "iloiloUniversities.a_star_algorithm('I', 'B')"
   ]
  },
  {
   "cell_type": "code",
   "execution_count": 26,
   "metadata": {},
   "outputs": [
    {
     "name": "stdout",
     "output_type": "stream",
     "text": [
      "Path found: ['I', 'H', 'G', 'F', 'E', 'D', 'C', 'B', 'A']\n",
      "Actual Cost: 6.80 km\n",
      "Total Cost (with heuristic): 7.80 km\n"
     ]
    }
   ],
   "source": [
    "iloiloUniversities.results('I', 'A')"
   ]
  },
  {
   "cell_type": "code",
   "execution_count": 27,
   "metadata": {},
   "outputs": [
    {
     "ename": "AttributeError",
     "evalue": "'AStarGraph' object has no attribute 'runAStar'",
     "output_type": "error",
     "traceback": [
      "\u001b[1;31m---------------------------------------------------------------------------\u001b[0m",
      "\u001b[1;31mAttributeError\u001b[0m                            Traceback (most recent call last)",
      "Cell \u001b[1;32mIn[27], line 2\u001b[0m\n\u001b[0;32m      1\u001b[0m \u001b[38;5;66;03m#running runstar() func\u001b[39;00m\n\u001b[1;32m----> 2\u001b[0m \u001b[43miloiloUniversities\u001b[49m\u001b[38;5;241;43m.\u001b[39;49m\u001b[43mrunAStar\u001b[49m()\n",
      "\u001b[1;31mAttributeError\u001b[0m: 'AStarGraph' object has no attribute 'runAStar'"
     ]
    }
   ],
   "source": [
    "#running runstar() func\n",
    "iloiloUniversities.runAStar()"
   ]
  },
  {
   "cell_type": "code",
   "execution_count": null,
   "metadata": {},
   "outputs": [
    {
     "name": "stdout",
     "output_type": "stream",
     "text": [
      "Actual Shortest Path Cost: inf km\n",
      "Estimated Total Cost (with heuristic): inf km\n",
      "Loop: 2\n",
      "Total Time Taken: 0.0 seconds\n",
      "{'A': inf, 'B': inf, 'C': inf, 'D': inf, 'E': 0, 'F': inf, 'G': inf, 'H': inf, 'I': inf}\n",
      "{'A': inf, 'B': inf, 'C': inf, 'D': inf, 'E': inf, 'F': inf, 'G': inf, 'H': inf, 'I': inf}\n"
     ]
    }
   ],
   "source": [
    "#running results() func\n",
    "iloiloUniversities.results()"
   ]
  },
  {
   "cell_type": "code",
   "execution_count": null,
   "metadata": {},
   "outputs": [
    {
     "name": "stdout",
     "output_type": "stream",
     "text": [
      "\n"
     ]
    }
   ],
   "source": [
    "print('')"
   ]
  },
  {
   "cell_type": "markdown",
   "metadata": {},
   "source": [
    "<h3>Results analysis</h3>\n",
    "<p>According to the results, shortest path and shortest distance are both equal to: 6.15 Km.</p>\n",
    "<p>Total Loop Count before the A-Star Search Algorithm ends is 7. </p>"
   ]
  }
 ],
 "metadata": {
  "kernelspec": {
   "display_name": "Python 3",
   "language": "python",
   "name": "python3"
  },
  "language_info": {
   "codemirror_mode": {
    "name": "ipython",
    "version": 3
   },
   "file_extension": ".py",
   "mimetype": "text/x-python",
   "name": "python",
   "nbconvert_exporter": "python",
   "pygments_lexer": "ipython3",
   "version": "3.11.5"
  }
 },
 "nbformat": 4,
 "nbformat_minor": 2
}
